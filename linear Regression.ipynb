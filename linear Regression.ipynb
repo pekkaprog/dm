{
 "cells": [
  {
   "cell_type": "code",
   "execution_count": 2,
   "id": "e7200442",
   "metadata": {},
   "outputs": [],
   "source": [
    "import pandas as pd\n",
    "import numpy as np"
   ]
  },
  {
   "cell_type": "code",
   "execution_count": 3,
   "id": "9f1c6107",
   "metadata": {},
   "outputs": [],
   "source": [
    "data=np.loadtxt(r\"C:\\Users\\harsh\\Downloads\\2.0 Files\\data.csv\",delimiter=\",\")\n",
    "X=data[:,0]\n",
    "Y=data[:,1]"
   ]
  },
  {
   "cell_type": "code",
   "execution_count": 4,
   "id": "51e9bdb1",
   "metadata": {},
   "outputs": [
    {
     "data": {
      "text/plain": [
       "(75,)"
      ]
     },
     "execution_count": 4,
     "metadata": {},
     "output_type": "execute_result"
    }
   ],
   "source": [
    "from sklearn import model_selection\n",
    "X_train,X_test,Y_train,Y_test=model_selection.train_test_split(X,Y)\n",
    "X_train.shape"
   ]
  },
  {
   "cell_type": "code",
   "execution_count": 5,
   "id": "a74354a3",
   "metadata": {},
   "outputs": [],
   "source": [
    "#fit function\n",
    "def fit(x_train,y_train):\n",
    "    num= (x_train*y_train).mean()-(x_train.mean()*y_train.mean())\n",
    "    dem=(x_train**2).mean()-(x_train.mean())**2\n",
    "    m=num/dem\n",
    "    c=y_train.mean()-m*x_train.mean()\n",
    "    return m,c"
   ]
  },
  {
   "cell_type": "code",
   "execution_count": 9,
   "id": "efe98318",
   "metadata": {},
   "outputs": [],
   "source": [
    "def predict(x,m,c):\n",
    "    y= x*m+c\n",
    "    return y\n",
    "def score(y_test,y_predict):\n",
    "    m=((y_test-y_predict)**2).sum()\n",
    "    n=((y_test-y_test.mean())**2).sum()\n",
    "    c=1-m/n\n",
    "    return c\n",
    "def cost(x,y,m,c):\n",
    "    return ((y-m*x-c)**2).mean();"
   ]
  },
  {
   "cell_type": "code",
   "execution_count": 14,
   "id": "246e4921",
   "metadata": {},
   "outputs": [
    {
     "name": "stdout",
     "output_type": "stream",
     "text": [
      "1.2301112261680116\n",
      "0.22206930836145244\n",
      "0.21602713984178212\n",
      "107.32155704343491\n"
     ]
    }
   ],
   "source": [
    "m,c=fit(X_train,Y_train)\n",
    "print(m)\n",
    "y_test_predict=predict(X_test,m,c)\n",
    "y_train_predict=predict(X_train,m,c)\n",
    "print(score(y_test_predict,Y_test))\n",
    "print(score(y_train_predict,Y_train))\n",
    "print(cost(X_train,Y_train,m,c))"
   ]
  },
  {
   "cell_type": "code",
   "execution_count": null,
   "id": "bd09d471",
   "metadata": {},
   "outputs": [],
   "source": []
  }
 ],
 "metadata": {
  "kernelspec": {
   "display_name": "Python 3 (ipykernel)",
   "language": "python",
   "name": "python3"
  },
  "language_info": {
   "codemirror_mode": {
    "name": "ipython",
    "version": 3
   },
   "file_extension": ".py",
   "mimetype": "text/x-python",
   "name": "python",
   "nbconvert_exporter": "python",
   "pygments_lexer": "ipython3",
   "version": "3.11.4"
  }
 },
 "nbformat": 4,
 "nbformat_minor": 5
}
