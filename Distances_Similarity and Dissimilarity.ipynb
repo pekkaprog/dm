{
  "nbformat": 4,
  "nbformat_minor": 0,
  "metadata": {
    "colab": {
      "provenance": []
    },
    "kernelspec": {
      "name": "python3",
      "display_name": "Python 3"
    },
    "language_info": {
      "name": "python"
    }
  },
  "cells": [
    {
      "cell_type": "code",
      "execution_count": null,
      "metadata": {
        "id": "U-zqYP832Ssq"
      },
      "outputs": [],
      "source": [
        "import numpy as np"
      ]
    },
    {
      "cell_type": "markdown",
      "source": [
        "Euclidean distance"
      ],
      "metadata": {
        "id": "nPURMufF5wLc"
      }
    },
    {
      "cell_type": "code",
      "source": [
        "import math\n",
        "\n",
        "def euclidean_distance(point1, point2):\n",
        "    # Ensure points have the same dimensionality\n",
        "    assert len(point1) == len(point2), \"Points must have the same dimensionality\"\n",
        "\n",
        "    # Calculate the sum of squared differences\n",
        "    sum_of_squares = sum([(q - p) ** 2 for p, q in zip(point1, point2)])\n",
        "\n",
        "    # Return the square root of the sum of squared differences\n",
        "    return math.sqrt(sum_of_squares)\n",
        "\n",
        "\n",
        "# Define two points in n-dimensional space\n",
        "point1 = np.array([1, 2, 3])\n",
        "point2 = np.array([4, 5, 6])\n",
        "\n",
        "euclidean_distance=euclidean_distance(point1,point2)\n",
        "print(euclidean_distance)"
      ],
      "metadata": {
        "colab": {
          "base_uri": "https://localhost:8080/"
        },
        "id": "WvA4Pkl92lpf",
        "outputId": "37efe1aa-82ee-4ad5-bbcd-69b16f34e43a"
      },
      "execution_count": null,
      "outputs": [
        {
          "output_type": "stream",
          "name": "stdout",
          "text": [
            "5.196152422706632\n"
          ]
        }
      ]
    },
    {
      "cell_type": "markdown",
      "source": [
        "Manhattan Distance"
      ],
      "metadata": {
        "id": "gDRfpnmc5y1D"
      }
    },
    {
      "cell_type": "code",
      "source": [
        "def manhattan_distance(point1, point2):\n",
        "    # Ensure points have the same dimensionality\n",
        "    assert len(point1) == len(point2), \"Points must have the same dimensionality\"\n",
        "\n",
        "    # Calculate the sum of squared differences\n",
        "    sum_of_squares = sum([abs(q -p ) for p, q in zip(point1, point2)])\n",
        "\n",
        "    # Return the square root of the sum of squared differences\n",
        "    return (sum_of_squares)\n",
        "\n",
        "# Generate random points using np.random of size 4\n",
        "point1 = np.random.rand(4)\n",
        "point2 = np.random.rand(4)\n",
        "\n",
        "manhattan_distance=manhattan_distance(point1,point2)\n",
        "print(manhattan_distance)"
      ],
      "metadata": {
        "colab": {
          "base_uri": "https://localhost:8080/"
        },
        "id": "DfVCtFgf5iAE",
        "outputId": "90c18db2-2bf2-49ed-ef14-a1736254b83a"
      },
      "execution_count": null,
      "outputs": [
        {
          "output_type": "stream",
          "name": "stdout",
          "text": [
            "1.7909110357694762\n"
          ]
        }
      ]
    },
    {
      "cell_type": "markdown",
      "source": [
        "Minkowski Distance"
      ],
      "metadata": {
        "id": "f0kl3uIUjerF"
      }
    },
    {
      "cell_type": "code",
      "source": [
        "import math\n",
        "import numpy as np\n",
        "import matplotlib.pyplot as plt\n",
        "\n",
        "def minkowski_distance(point1, point2, p):\n",
        "    # Ensure points have the same dimensionality\n",
        "    assert len(point1) == len(point2), \"Points must have the same dimensionality\"\n",
        "\n",
        "    # Calculate the sum of absolute differences raised to the power of p\n",
        "    sum_of_differences = sum([abs(b - a) ** p for a, b in zip(point1, point2)])\n",
        "\n",
        "    # Return the pth root of the sum of differences\n",
        "    return sum_of_differences ** (1 / p)\n",
        "\n",
        "# Define two points\n",
        "point1 = [1, 2, 3]\n",
        "point2 = [4, 5, 6]\n",
        "p = 2  # order for Minkowski distance\n",
        "distance = minkowski_distance(point1, point2, p)\n",
        "print(\"Minkowski Distance between point1 and point2:\", distance)\n",
        "\n",
        "# Plotting the points and the distance\n",
        "plt.scatter([point1[0], point2[0]], [point1[1], point2[1]], color='blue')\n",
        "plt.text((point1[0] + point2[0]) / 2, (point1[1] + point2[1]) / 2, f'Distance = {distance:.2f}', fontsize=12, color='black')\n",
        "plt.plot([point1[0], point2[0]], [point1[1], point2[1]], color='red')\n",
        "plt.xlabel('X-axis')\n",
        "plt.ylabel('Y-axis')\n",
        "plt.title('Minkowski Distance between two points')\n",
        "plt.grid(True)\n",
        "plt.show()\n"
      ],
      "metadata": {
        "colab": {
          "base_uri": "https://localhost:8080/",
          "height": 489
        },
        "id": "9Nl3M22K6GTD",
        "outputId": "4e0f11e6-821b-40d2-958e-c61987bc9994"
      },
      "execution_count": null,
      "outputs": [
        {
          "output_type": "stream",
          "name": "stdout",
          "text": [
            "Minkowski Distance between point1 and point2: 5.196152422706632\n"
          ]
        },
        {
          "output_type": "display_data",
          "data": {
            "text/plain": [
              "<Figure size 640x480 with 1 Axes>"
            ],
            "image/png": "[encoded data removed]"
          },
          "metadata": {}
        }
      ]
    },
    {
      "cell_type": "markdown",
      "source": [
        "Cosine Similarity"
      ],
      "metadata": {
        "id": "48BgKYO2-NBN"
      }
    },
    {
      "cell_type": "code",
      "source": [
        "import numpy as np\n",
        "def calculate_magnitude(vector):\n",
        "    squared_sum = np.sum(np.square(vector))\n",
        "    magnitude = np.sqrt(squared_sum)\n",
        "    return magnitude\n",
        "\n",
        "def cosine_similarity(vector1, vector2):\n",
        "    dot_product = np.dot(vector1, vector2)\n",
        "    mag1 = calculate_magnitude(vector1)\n",
        "    mag2 = calculate_magnitude(vector2)\n",
        "\n",
        "    similarity = dot_product / (mag1*mag2)\n",
        "    return similarity\n",
        "\n",
        "\n",
        "vector1 = np.array([1, 2, 3])\n",
        "vector2 = np.array([4, 5, 6])\n",
        "\n",
        "cosine_sim = cosine_similarity(vector1, vector2)\n",
        "print(\"Cosine similarity between vector1 and vector2:\", cosine_sim)\n"
      ],
      "metadata": {
        "colab": {
          "base_uri": "https://localhost:8080/"
        },
        "id": "U95ASvZ58RjN",
        "outputId": "bf80c505-0177-452d-f3f0-28586e1c2a9f"
      },
      "execution_count": null,
      "outputs": [
        {
          "output_type": "stream",
          "name": "stdout",
          "text": [
            "Cosine similarity between vector1 and vector2: 0.9746318461970762\n"
          ]
        }
      ]
    }
  ]
}