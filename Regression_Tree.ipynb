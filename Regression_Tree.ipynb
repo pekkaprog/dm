{
 "cells": [
  {
   "cell_type": "code",
   "execution_count": null,
   "id": "b8ed0fe3",
   "metadata": {},
   "outputs": [],
   "source": [
    "import pandas as pd\n",
    "from sklearn.model_selection import train_test_split\n",
    "from sklearn.tree import DecisionTreeRegressor\n",
    "from sklearn import metrics\n",
    "import matplotlib.pyplot as plt\n",
    "from sklearn.metrics import mean_squared_error\n",
    "from sklearn.metrics import r2_score"
   ]
  },
  {
   "cell_type": "code",
   "execution_count": null,
   "id": "c0a54340",
   "metadata": {},
   "outputs": [],
   "source": [
    "db = pd.read_csv(r\"C:\\Users\\DSE LAB 27\\Downloads\\archive (8)\\Walmart_sales.csv\n",
    "X = db.drop(['Unemployment','Date'],axis=1)\n",
    "y = db['Unemployment']\n",
    "X_train, X_test, y_train, y_test = train_test_split(X, y,random_state=1)\n",
    "regr_1 = DecisionTreeRegressor(max_depth=5)\n",
    "regr_1.fit(X, y)\n",
    "y_1 = regr_1.predict(X_test)\n",
    "mean_squared_error(y_test,y_1)\n",
    "r2_score(y_test,y_1)"
   ]
  }
 ],
 "metadata": {
  "kernelspec": {
   "display_name": "Python 3 (ipykernel)",
   "language": "python",
   "name": "python3"
  },
  "language_info": {
   "codemirror_mode": {
    "name": "ipython",
    "version": 3
   },
   "file_extension": ".py",
   "mimetype": "text/x-python",
   "name": "python",
   "nbconvert_exporter": "python",
   "pygments_lexer": "ipython3",
   "version": "3.11.4"
  }
 },
 "nbformat": 4,
 "nbformat_minor": 5
}
