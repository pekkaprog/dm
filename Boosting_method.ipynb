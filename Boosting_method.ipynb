{
 "cells": [
  {
   "cell_type": "code",
   "execution_count": null,
   "id": "57cd3238",
   "metadata": {},
   "outputs": [],
   "source": [
    "import pandas as pd\n",
    "from sklearn.model_selection import train_test_split\n",
    "from sklearn.ensemble import GradientBoostingRegressor\n",
    "from sklearn.model_selection import train_test_split  \n",
    "from sklearn.metrics import r2_score\n",
    "db=pd.read_csv(r\"C:\\Users\\DSE LAB 27\\Downloads\\archive (7)\\For_modeling.csv\")\n",
    "X=db.drop(columns=['Duration'])\n",
    "y=db['Duration']\n",
    "X=X.head(10000)\n",
    "y=y.head(10000)"
   ]
  },
  {
   "cell_type": "code",
   "execution_count": null,
   "id": "0e61086e",
   "metadata": {},
   "outputs": [],
   "source": [
    "X_train, X_test,y_train, y_test = train_test_split(X, y,random_state=0)\n",
    "gbr = GradientBoostingRegressor()\n",
    "gbr.fit(X_train, y_train)\n",
    "#Gradient Boosting\n",
    "y_pred1 = gbr.predict(X_test)\n",
    "print(\"Gradient Boosting - R2: \",r2_score(y_test, y_pred1))"
   ]
  },
  {
   "cell_type": "code",
   "execution_count": null,
   "id": "03c80fae",
   "metadata": {},
   "outputs": [],
   "source": [
    "from xgboost import XGBRegressor\n",
    "xgr = XGBRegressor()\n",
    "xgr.fit(X_train, y_train)\n",
    "y_pred2 = xgr.predict(X_test)\n",
    "print(\"XGBoost - R2: \",r2_score(y_test, y_pred2))"
   ]
  },
  {
   "cell_type": "code",
   "execution_count": null,
   "id": "faf5206e",
   "metadata": {},
   "outputs": [],
   "source": [
    "from sklearn.ensemble import AdaBoostRegressor\n",
    "adr = AdaBoostRegressor()\n",
    "adr.fit(X_train, y_train)\n",
    "y_pred3 = adr.predict(X_test)\n",
    "print(\"AdaBoost - R2: \",r2_score(y_test, y_pred3))"
   ]
  },
  {
   "cell_type": "code",
   "execution_count": null,
   "id": "22bc5cf3",
   "metadata": {},
   "outputs": [],
   "source": [
    "from catboost import CatBoostRegressor\n",
    "cbr = CatBoostRegressor(iterations=100,depth=5,learning_rate=0.01,loss_function='RMSE',verbose=0)\n",
    "cbr.fit(X_train, y_train)\n",
    "y_pred4 = cbr.predict(X_test)\n",
    "print(\"CatBoost - R2: \",r2_score(y_test, y_pred4))\n"
   ]
  }
 ],
 "metadata": {
  "kernelspec": {
   "display_name": "Python 3 (ipykernel)",
   "language": "python",
   "name": "python3"
  },
  "language_info": {
   "codemirror_mode": {
    "name": "ipython",
    "version": 3
   },
   "file_extension": ".py",
   "mimetype": "text/x-python",
   "name": "python",
   "nbconvert_exporter": "python",
   "pygments_lexer": "ipython3",
   "version": "3.11.4"
  }
 },
 "nbformat": 4,
 "nbformat_minor": 5
}
