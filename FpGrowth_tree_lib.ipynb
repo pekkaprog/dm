{
 "cells": [
  {
   "cell_type": "code",
   "execution_count": null,
   "id": "d67d9b5a",
   "metadata": {},
   "outputs": [],
   "source": [
    "import pandas as pd\n",
    "dataset = pd.read_csv(r\"C:\\Users\\DSE LAB 27\\Downloads\\archive (5)\\Market_Basket_Optimisation.csv\")\n",
    "print(type(dataset))\n",
    "dataset=dataset.head(10)\n",
    "dataset"
   ]
  },
  {
   "cell_type": "code",
   "execution_count": null,
   "id": "797e6213",
   "metadata": {},
   "outputs": [],
   "source": [
    "import numpy as np\n",
    "transaction = []\n",
    "for i in range(0, dataset.shape[0]):\n",
    "    for j in range(0, dataset.shape[1]):\n",
    "        transaction.append(dataset.values[i,j])\n",
    "transaction = np.array(transaction)\n",
    "print(transaction)"
   ]
  },
  {
   "cell_type": "code",
   "execution_count": null,
   "id": "1de97dfe",
   "metadata": {},
   "outputs": [],
   "source": [
    "df = pd.DataFrame(transaction, columns=[\"items\"]) \n",
    "df[\"incident_count\"] = 1 \n",
    "indexNames = df[df['items'] == \"nan\" ].index\n",
    "df.drop(indexNames , inplace=True)\n",
    "df_table = df.groupby(\"items\").sum().sort_values(\"incident_count\", ascending=False).reset_index()\n",
    "df_table.head(5).style.background_gradient(cmap='Blues')"
   ]
  },
  {
   "cell_type": "code",
   "execution_count": null,
   "id": "dacff2e8",
   "metadata": {},
   "outputs": [],
   "source": [
    "import plotly.express as px\n",
    "df_table[\"all\"] = \"Top 50 items\" \n",
    "fig = px.treemap(df_table.head(50), path=['all', \"items\"], values='incident_count',\n",
    "                  color=df_table[\"incident_count\"].head(50), hover_data=['items'],\n",
    "                  color_continuous_scale='Blues',\n",
    "                )\n",
    "fig.show()"
   ]
  }
 ],
 "metadata": {
  "kernelspec": {
   "display_name": "Python 3 (ipykernel)",
   "language": "python",
   "name": "python3"
  },
  "language_info": {
   "codemirror_mode": {
    "name": "ipython",
    "version": 3
   },
   "file_extension": ".py",
   "mimetype": "text/x-python",
   "name": "python",
   "nbconvert_exporter": "python",
   "pygments_lexer": "ipython3",
   "version": "3.11.4"
  }
 },
 "nbformat": 4,
 "nbformat_minor": 5
}
